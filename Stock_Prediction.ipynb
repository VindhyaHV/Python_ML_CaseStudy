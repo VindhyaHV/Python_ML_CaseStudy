{
  "nbformat": 4,
  "nbformat_minor": 0,
  "metadata": {
    "colab": {
      "name": "Stock Prediction.ipynb",
      "provenance": [],
      "collapsed_sections": [],
      "authorship_tag": "ABX9TyOummUPfbf5nNV0gD7MDqFL",
      "include_colab_link": true
    },
    "kernelspec": {
      "name": "python3",
      "display_name": "Python 3"
    },
    "language_info": {
      "name": "python"
    }
  },
  "cells": [
    {
      "cell_type": "markdown",
      "metadata": {
        "id": "view-in-github",
        "colab_type": "text"
      },
      "source": [
        "<a href=\"https://colab.research.google.com/github/VindhyaHV/Python_ML_CaseStudy/blob/main/Stock_Prediction.ipynb\" target=\"_parent\"><img src=\"https://colab.research.google.com/assets/colab-badge.svg\" alt=\"Open In Colab\"/></a>"
      ]
    },
    {
      "cell_type": "code",
      "execution_count": null,
      "metadata": {
        "id": "oCl6wHebegsy"
      },
      "outputs": [],
      "source": [
        "import pandas as pd\n",
        "data = pd.read_csv('GOOGL CSV.csv')"
      ]
    },
    {
      "cell_type": "code",
      "source": [
        "data"
      ],
      "metadata": {
        "colab": {
          "base_uri": "https://localhost:8080/",
          "height": 424
        },
        "id": "itDiLFHphbPk",
        "outputId": "34a7e994-3e5e-4472-b00e-b6e95c6af05b"
      },
      "execution_count": null,
      "outputs": [
        {
          "output_type": "execute_result",
          "data": {
            "text/plain": [
              "           Date         Open         High          Low        Close  \\\n",
              "0     8/19/2004    50.050049    52.082081    48.028027    50.220219   \n",
              "1     8/20/2004    50.555557    54.594597    50.300301    54.209209   \n",
              "2     8/23/2004    55.430431    56.796799    54.579578    54.754753   \n",
              "3     8/24/2004    55.675674    55.855858    51.836838    52.487488   \n",
              "4     8/25/2004    52.532532    54.054054    51.991993    53.053055   \n",
              "...         ...          ...          ...          ...          ...   \n",
              "4401  2/10/2022  2794.070068  2829.689941  2759.139893  2772.399902   \n",
              "4402  2/11/2022  2772.000000  2783.129883  2668.000000  2685.649902   \n",
              "4403  2/14/2022  2665.129883  2726.000000  2665.129883  2710.520020   \n",
              "4404  2/15/2022  2751.409912  2762.169922  2716.429932  2732.169922   \n",
              "4405  2/16/2022  2732.929932  2740.610107  2700.000000  2720.679932   \n",
              "\n",
              "        Adj Close    Volume  \n",
              "0       50.220219  44659096  \n",
              "1       54.209209  22834343  \n",
              "2       54.754753  18256126  \n",
              "3       52.487488  15247337  \n",
              "4       53.053055   9188602  \n",
              "...           ...       ...  \n",
              "4401  2772.399902   1966500  \n",
              "4402  2685.649902   1994200  \n",
              "4403  2710.520020   1713900  \n",
              "4404  2732.169922   1334000  \n",
              "4405  2720.679932    673361  \n",
              "\n",
              "[4406 rows x 7 columns]"
            ],
            "text/html": [
              "\n",
              "  <div id=\"df-fb10140d-7a10-4133-8ed8-7a753e933a31\">\n",
              "    <div class=\"colab-df-container\">\n",
              "      <div>\n",
              "<style scoped>\n",
              "    .dataframe tbody tr th:only-of-type {\n",
              "        vertical-align: middle;\n",
              "    }\n",
              "\n",
              "    .dataframe tbody tr th {\n",
              "        vertical-align: top;\n",
              "    }\n",
              "\n",
              "    .dataframe thead th {\n",
              "        text-align: right;\n",
              "    }\n",
              "</style>\n",
              "<table border=\"1\" class=\"dataframe\">\n",
              "  <thead>\n",
              "    <tr style=\"text-align: right;\">\n",
              "      <th></th>\n",
              "      <th>Date</th>\n",
              "      <th>Open</th>\n",
              "      <th>High</th>\n",
              "      <th>Low</th>\n",
              "      <th>Close</th>\n",
              "      <th>Adj Close</th>\n",
              "      <th>Volume</th>\n",
              "    </tr>\n",
              "  </thead>\n",
              "  <tbody>\n",
              "    <tr>\n",
              "      <th>0</th>\n",
              "      <td>8/19/2004</td>\n",
              "      <td>50.050049</td>\n",
              "      <td>52.082081</td>\n",
              "      <td>48.028027</td>\n",
              "      <td>50.220219</td>\n",
              "      <td>50.220219</td>\n",
              "      <td>44659096</td>\n",
              "    </tr>\n",
              "    <tr>\n",
              "      <th>1</th>\n",
              "      <td>8/20/2004</td>\n",
              "      <td>50.555557</td>\n",
              "      <td>54.594597</td>\n",
              "      <td>50.300301</td>\n",
              "      <td>54.209209</td>\n",
              "      <td>54.209209</td>\n",
              "      <td>22834343</td>\n",
              "    </tr>\n",
              "    <tr>\n",
              "      <th>2</th>\n",
              "      <td>8/23/2004</td>\n",
              "      <td>55.430431</td>\n",
              "      <td>56.796799</td>\n",
              "      <td>54.579578</td>\n",
              "      <td>54.754753</td>\n",
              "      <td>54.754753</td>\n",
              "      <td>18256126</td>\n",
              "    </tr>\n",
              "    <tr>\n",
              "      <th>3</th>\n",
              "      <td>8/24/2004</td>\n",
              "      <td>55.675674</td>\n",
              "      <td>55.855858</td>\n",
              "      <td>51.836838</td>\n",
              "      <td>52.487488</td>\n",
              "      <td>52.487488</td>\n",
              "      <td>15247337</td>\n",
              "    </tr>\n",
              "    <tr>\n",
              "      <th>4</th>\n",
              "      <td>8/25/2004</td>\n",
              "      <td>52.532532</td>\n",
              "      <td>54.054054</td>\n",
              "      <td>51.991993</td>\n",
              "      <td>53.053055</td>\n",
              "      <td>53.053055</td>\n",
              "      <td>9188602</td>\n",
              "    </tr>\n",
              "    <tr>\n",
              "      <th>...</th>\n",
              "      <td>...</td>\n",
              "      <td>...</td>\n",
              "      <td>...</td>\n",
              "      <td>...</td>\n",
              "      <td>...</td>\n",
              "      <td>...</td>\n",
              "      <td>...</td>\n",
              "    </tr>\n",
              "    <tr>\n",
              "      <th>4401</th>\n",
              "      <td>2/10/2022</td>\n",
              "      <td>2794.070068</td>\n",
              "      <td>2829.689941</td>\n",
              "      <td>2759.139893</td>\n",
              "      <td>2772.399902</td>\n",
              "      <td>2772.399902</td>\n",
              "      <td>1966500</td>\n",
              "    </tr>\n",
              "    <tr>\n",
              "      <th>4402</th>\n",
              "      <td>2/11/2022</td>\n",
              "      <td>2772.000000</td>\n",
              "      <td>2783.129883</td>\n",
              "      <td>2668.000000</td>\n",
              "      <td>2685.649902</td>\n",
              "      <td>2685.649902</td>\n",
              "      <td>1994200</td>\n",
              "    </tr>\n",
              "    <tr>\n",
              "      <th>4403</th>\n",
              "      <td>2/14/2022</td>\n",
              "      <td>2665.129883</td>\n",
              "      <td>2726.000000</td>\n",
              "      <td>2665.129883</td>\n",
              "      <td>2710.520020</td>\n",
              "      <td>2710.520020</td>\n",
              "      <td>1713900</td>\n",
              "    </tr>\n",
              "    <tr>\n",
              "      <th>4404</th>\n",
              "      <td>2/15/2022</td>\n",
              "      <td>2751.409912</td>\n",
              "      <td>2762.169922</td>\n",
              "      <td>2716.429932</td>\n",
              "      <td>2732.169922</td>\n",
              "      <td>2732.169922</td>\n",
              "      <td>1334000</td>\n",
              "    </tr>\n",
              "    <tr>\n",
              "      <th>4405</th>\n",
              "      <td>2/16/2022</td>\n",
              "      <td>2732.929932</td>\n",
              "      <td>2740.610107</td>\n",
              "      <td>2700.000000</td>\n",
              "      <td>2720.679932</td>\n",
              "      <td>2720.679932</td>\n",
              "      <td>673361</td>\n",
              "    </tr>\n",
              "  </tbody>\n",
              "</table>\n",
              "<p>4406 rows × 7 columns</p>\n",
              "</div>\n",
              "      <button class=\"colab-df-convert\" onclick=\"convertToInteractive('df-fb10140d-7a10-4133-8ed8-7a753e933a31')\"\n",
              "              title=\"Convert this dataframe to an interactive table.\"\n",
              "              style=\"display:none;\">\n",
              "        \n",
              "  <svg xmlns=\"http://www.w3.org/2000/svg\" height=\"24px\"viewBox=\"0 0 24 24\"\n",
              "       width=\"24px\">\n",
              "    <path d=\"M0 0h24v24H0V0z\" fill=\"none\"/>\n",
              "    <path d=\"M18.56 5.44l.94 2.06.94-2.06 2.06-.94-2.06-.94-.94-2.06-.94 2.06-2.06.94zm-11 1L8.5 8.5l.94-2.06 2.06-.94-2.06-.94L8.5 2.5l-.94 2.06-2.06.94zm10 10l.94 2.06.94-2.06 2.06-.94-2.06-.94-.94-2.06-.94 2.06-2.06.94z\"/><path d=\"M17.41 7.96l-1.37-1.37c-.4-.4-.92-.59-1.43-.59-.52 0-1.04.2-1.43.59L10.3 9.45l-7.72 7.72c-.78.78-.78 2.05 0 2.83L4 21.41c.39.39.9.59 1.41.59.51 0 1.02-.2 1.41-.59l7.78-7.78 2.81-2.81c.8-.78.8-2.07 0-2.86zM5.41 20L4 18.59l7.72-7.72 1.47 1.35L5.41 20z\"/>\n",
              "  </svg>\n",
              "      </button>\n",
              "      \n",
              "  <style>\n",
              "    .colab-df-container {\n",
              "      display:flex;\n",
              "      flex-wrap:wrap;\n",
              "      gap: 12px;\n",
              "    }\n",
              "\n",
              "    .colab-df-convert {\n",
              "      background-color: #E8F0FE;\n",
              "      border: none;\n",
              "      border-radius: 50%;\n",
              "      cursor: pointer;\n",
              "      display: none;\n",
              "      fill: #1967D2;\n",
              "      height: 32px;\n",
              "      padding: 0 0 0 0;\n",
              "      width: 32px;\n",
              "    }\n",
              "\n",
              "    .colab-df-convert:hover {\n",
              "      background-color: #E2EBFA;\n",
              "      box-shadow: 0px 1px 2px rgba(60, 64, 67, 0.3), 0px 1px 3px 1px rgba(60, 64, 67, 0.15);\n",
              "      fill: #174EA6;\n",
              "    }\n",
              "\n",
              "    [theme=dark] .colab-df-convert {\n",
              "      background-color: #3B4455;\n",
              "      fill: #D2E3FC;\n",
              "    }\n",
              "\n",
              "    [theme=dark] .colab-df-convert:hover {\n",
              "      background-color: #434B5C;\n",
              "      box-shadow: 0px 1px 3px 1px rgba(0, 0, 0, 0.15);\n",
              "      filter: drop-shadow(0px 1px 2px rgba(0, 0, 0, 0.3));\n",
              "      fill: #FFFFFF;\n",
              "    }\n",
              "  </style>\n",
              "\n",
              "      <script>\n",
              "        const buttonEl =\n",
              "          document.querySelector('#df-fb10140d-7a10-4133-8ed8-7a753e933a31 button.colab-df-convert');\n",
              "        buttonEl.style.display =\n",
              "          google.colab.kernel.accessAllowed ? 'block' : 'none';\n",
              "\n",
              "        async function convertToInteractive(key) {\n",
              "          const element = document.querySelector('#df-fb10140d-7a10-4133-8ed8-7a753e933a31');\n",
              "          const dataTable =\n",
              "            await google.colab.kernel.invokeFunction('convertToInteractive',\n",
              "                                                     [key], {});\n",
              "          if (!dataTable) return;\n",
              "\n",
              "          const docLinkHtml = 'Like what you see? Visit the ' +\n",
              "            '<a target=\"_blank\" href=https://colab.research.google.com/notebooks/data_table.ipynb>data table notebook</a>'\n",
              "            + ' to learn more about interactive tables.';\n",
              "          element.innerHTML = '';\n",
              "          dataTable['output_type'] = 'display_data';\n",
              "          await google.colab.output.renderOutput(dataTable, element);\n",
              "          const docLink = document.createElement('div');\n",
              "          docLink.innerHTML = docLinkHtml;\n",
              "          element.appendChild(docLink);\n",
              "        }\n",
              "      </script>\n",
              "    </div>\n",
              "  </div>\n",
              "  "
            ]
          },
          "metadata": {},
          "execution_count": 312
        }
      ]
    },
    {
      "cell_type": "markdown",
      "source": [
        "We can observe that its a time series data"
      ],
      "metadata": {
        "id": "PgMa7ZbtoiZp"
      }
    },
    {
      "cell_type": "code",
      "source": [
        "target = data['High']\n",
        "target.value_counts()"
      ],
      "metadata": {
        "colab": {
          "base_uri": "https://localhost:8080/"
        },
        "id": "sSe2R3Rohf1O",
        "outputId": "65a78348-e3d7-46f0-9218-5763ddfd85b9"
      },
      "execution_count": null,
      "outputs": [
        {
          "output_type": "execute_result",
          "data": {
            "text/plain": [
              "950.000000     3\n",
              "548.000000     3\n",
              "236.736740     3\n",
              "195.195190     3\n",
              "565.000000     3\n",
              "              ..\n",
              "229.134140     1\n",
              "228.858856     1\n",
              "230.225220     1\n",
              "230.110107     1\n",
              "2740.610107    1\n",
              "Name: High, Length: 4258, dtype: int64"
            ]
          },
          "metadata": {},
          "execution_count": 313
        }
      ]
    },
    {
      "cell_type": "code",
      "source": [
        "dataA = data.drop(labels = ['High'],axis = 1)\n",
        "dataB = data.drop(labels = ['Low'],axis = 1)"
      ],
      "metadata": {
        "id": "93ceM5ekhu-d"
      },
      "execution_count": null,
      "outputs": []
    },
    {
      "cell_type": "code",
      "source": [
        "#Checking for duplicates\n",
        "data.isna().sum()"
      ],
      "metadata": {
        "colab": {
          "base_uri": "https://localhost:8080/"
        },
        "id": "AgHXqI7Bh-tC",
        "outputId": "2ab24ef1-f03d-4fa1-b2f6-a1e78de4d072"
      },
      "execution_count": null,
      "outputs": [
        {
          "output_type": "execute_result",
          "data": {
            "text/plain": [
              "Date         0\n",
              "Open         0\n",
              "High         0\n",
              "Low          0\n",
              "Close        0\n",
              "Adj Close    0\n",
              "Volume       0\n",
              "dtype: int64"
            ]
          },
          "metadata": {},
          "execution_count": 315
        }
      ]
    },
    {
      "cell_type": "code",
      "source": [
        "#checking correlation btw features\n",
        "corr = data.corr()\n",
        "corr.style.background_gradient(cmap='coolwarm')"
      ],
      "metadata": {
        "colab": {
          "base_uri": "https://localhost:8080/",
          "height": 237
        },
        "id": "fZFBG8veiEGe",
        "outputId": "f406f6fe-a552-4e55-cc83-d7eabec13148"
      },
      "execution_count": null,
      "outputs": [
        {
          "output_type": "execute_result",
          "data": {
            "text/plain": [
              "<pandas.io.formats.style.Styler at 0x7fcdb872e2d0>"
            ],
            "text/html": [
              "<style type=\"text/css\">\n",
              "#T_78503_row0_col0, #T_78503_row0_col1, #T_78503_row0_col2, #T_78503_row0_col3, #T_78503_row0_col4, #T_78503_row1_col0, #T_78503_row1_col1, #T_78503_row1_col2, #T_78503_row1_col3, #T_78503_row1_col4, #T_78503_row2_col0, #T_78503_row2_col1, #T_78503_row2_col2, #T_78503_row2_col3, #T_78503_row2_col4, #T_78503_row3_col0, #T_78503_row3_col1, #T_78503_row3_col2, #T_78503_row3_col3, #T_78503_row3_col4, #T_78503_row4_col0, #T_78503_row4_col1, #T_78503_row4_col2, #T_78503_row4_col3, #T_78503_row4_col4, #T_78503_row5_col5 {\n",
              "  background-color: #b40426;\n",
              "  color: #f1f1f1;\n",
              "}\n",
              "#T_78503_row0_col5, #T_78503_row1_col5, #T_78503_row2_col5, #T_78503_row3_col5, #T_78503_row4_col5, #T_78503_row5_col0, #T_78503_row5_col1, #T_78503_row5_col2, #T_78503_row5_col3, #T_78503_row5_col4 {\n",
              "  background-color: #3b4cc0;\n",
              "  color: #f1f1f1;\n",
              "}\n",
              "</style>\n",
              "<table id=\"T_78503_\" class=\"dataframe\">\n",
              "  <thead>\n",
              "    <tr>\n",
              "      <th class=\"blank level0\" >&nbsp;</th>\n",
              "      <th class=\"col_heading level0 col0\" >Open</th>\n",
              "      <th class=\"col_heading level0 col1\" >High</th>\n",
              "      <th class=\"col_heading level0 col2\" >Low</th>\n",
              "      <th class=\"col_heading level0 col3\" >Close</th>\n",
              "      <th class=\"col_heading level0 col4\" >Adj Close</th>\n",
              "      <th class=\"col_heading level0 col5\" >Volume</th>\n",
              "    </tr>\n",
              "  </thead>\n",
              "  <tbody>\n",
              "    <tr>\n",
              "      <th id=\"T_78503_level0_row0\" class=\"row_heading level0 row0\" >Open</th>\n",
              "      <td id=\"T_78503_row0_col0\" class=\"data row0 col0\" >1.000000</td>\n",
              "      <td id=\"T_78503_row0_col1\" class=\"data row0 col1\" >0.999921</td>\n",
              "      <td id=\"T_78503_row0_col2\" class=\"data row0 col2\" >0.999905</td>\n",
              "      <td id=\"T_78503_row0_col3\" class=\"data row0 col3\" >0.999822</td>\n",
              "      <td id=\"T_78503_row0_col4\" class=\"data row0 col4\" >0.999822</td>\n",
              "      <td id=\"T_78503_row0_col5\" class=\"data row0 col5\" >-0.455981</td>\n",
              "    </tr>\n",
              "    <tr>\n",
              "      <th id=\"T_78503_level0_row1\" class=\"row_heading level0 row1\" >High</th>\n",
              "      <td id=\"T_78503_row1_col0\" class=\"data row1 col0\" >0.999921</td>\n",
              "      <td id=\"T_78503_row1_col1\" class=\"data row1 col1\" >1.000000</td>\n",
              "      <td id=\"T_78503_row1_col2\" class=\"data row1 col2\" >0.999880</td>\n",
              "      <td id=\"T_78503_row1_col3\" class=\"data row1 col3\" >0.999907</td>\n",
              "      <td id=\"T_78503_row1_col4\" class=\"data row1 col4\" >0.999907</td>\n",
              "      <td id=\"T_78503_row1_col5\" class=\"data row1 col5\" >-0.455030</td>\n",
              "    </tr>\n",
              "    <tr>\n",
              "      <th id=\"T_78503_level0_row2\" class=\"row_heading level0 row2\" >Low</th>\n",
              "      <td id=\"T_78503_row2_col0\" class=\"data row2 col0\" >0.999905</td>\n",
              "      <td id=\"T_78503_row2_col1\" class=\"data row2 col1\" >0.999880</td>\n",
              "      <td id=\"T_78503_row2_col2\" class=\"data row2 col2\" >1.000000</td>\n",
              "      <td id=\"T_78503_row2_col3\" class=\"data row2 col3\" >0.999920</td>\n",
              "      <td id=\"T_78503_row2_col4\" class=\"data row2 col4\" >0.999920</td>\n",
              "      <td id=\"T_78503_row2_col5\" class=\"data row2 col5\" >-0.457492</td>\n",
              "    </tr>\n",
              "    <tr>\n",
              "      <th id=\"T_78503_level0_row3\" class=\"row_heading level0 row3\" >Close</th>\n",
              "      <td id=\"T_78503_row3_col0\" class=\"data row3 col0\" >0.999822</td>\n",
              "      <td id=\"T_78503_row3_col1\" class=\"data row3 col1\" >0.999907</td>\n",
              "      <td id=\"T_78503_row3_col2\" class=\"data row3 col2\" >0.999920</td>\n",
              "      <td id=\"T_78503_row3_col3\" class=\"data row3 col3\" >1.000000</td>\n",
              "      <td id=\"T_78503_row3_col4\" class=\"data row3 col4\" >1.000000</td>\n",
              "      <td id=\"T_78503_row3_col5\" class=\"data row3 col5\" >-0.456380</td>\n",
              "    </tr>\n",
              "    <tr>\n",
              "      <th id=\"T_78503_level0_row4\" class=\"row_heading level0 row4\" >Adj Close</th>\n",
              "      <td id=\"T_78503_row4_col0\" class=\"data row4 col0\" >0.999822</td>\n",
              "      <td id=\"T_78503_row4_col1\" class=\"data row4 col1\" >0.999907</td>\n",
              "      <td id=\"T_78503_row4_col2\" class=\"data row4 col2\" >0.999920</td>\n",
              "      <td id=\"T_78503_row4_col3\" class=\"data row4 col3\" >1.000000</td>\n",
              "      <td id=\"T_78503_row4_col4\" class=\"data row4 col4\" >1.000000</td>\n",
              "      <td id=\"T_78503_row4_col5\" class=\"data row4 col5\" >-0.456380</td>\n",
              "    </tr>\n",
              "    <tr>\n",
              "      <th id=\"T_78503_level0_row5\" class=\"row_heading level0 row5\" >Volume</th>\n",
              "      <td id=\"T_78503_row5_col0\" class=\"data row5 col0\" >-0.455981</td>\n",
              "      <td id=\"T_78503_row5_col1\" class=\"data row5 col1\" >-0.455030</td>\n",
              "      <td id=\"T_78503_row5_col2\" class=\"data row5 col2\" >-0.457492</td>\n",
              "      <td id=\"T_78503_row5_col3\" class=\"data row5 col3\" >-0.456380</td>\n",
              "      <td id=\"T_78503_row5_col4\" class=\"data row5 col4\" >-0.456380</td>\n",
              "      <td id=\"T_78503_row5_col5\" class=\"data row5 col5\" >1.000000</td>\n",
              "    </tr>\n",
              "  </tbody>\n",
              "</table>\n"
            ]
          },
          "metadata": {},
          "execution_count": 316
        }
      ]
    },
    {
      "cell_type": "markdown",
      "source": [
        "We can observe that Except Volume, all the features are highly correlated"
      ],
      "metadata": {
        "id": "QdoJj7XXM0L0"
      }
    },
    {
      "cell_type": "markdown",
      "source": [
        "Adj Close "
      ],
      "metadata": {
        "id": "_9d8DA8WjbcL"
      }
    },
    {
      "cell_type": "code",
      "source": [
        "import seaborn as sns\n",
        "import matplotlib.pyplot as plt"
      ],
      "metadata": {
        "id": "fbpi7ESLjNV1"
      },
      "execution_count": null,
      "outputs": []
    },
    {
      "cell_type": "code",
      "source": [
        "#checking mean , std , min etc\n",
        "data['Adj Close'].describe()"
      ],
      "metadata": {
        "colab": {
          "base_uri": "https://localhost:8080/"
        },
        "id": "TvXDAVlal-F6",
        "outputId": "974d27dd-de6c-44a3-8ab4-453fab20f1a7"
      },
      "execution_count": null,
      "outputs": [
        {
          "output_type": "execute_result",
          "data": {
            "text/plain": [
              "count    4406.000000\n",
              "mean      681.950130\n",
              "std       629.734137\n",
              "min        50.055054\n",
              "25%       247.757752\n",
              "50%       430.450454\n",
              "75%       992.279999\n",
              "max      2996.770020\n",
              "Name: Adj Close, dtype: float64"
            ]
          },
          "metadata": {},
          "execution_count": 318
        }
      ]
    },
    {
      "cell_type": "code",
      "source": [
        "sns.violinplot(data['Adj Close'])\n",
        "plt.show()"
      ],
      "metadata": {
        "colab": {
          "base_uri": "https://localhost:8080/",
          "height": 333
        },
        "id": "HLuk65zmmYKc",
        "outputId": "d446288c-1dc0-4325-ee90-2c16b6a15379"
      },
      "execution_count": null,
      "outputs": [
        {
          "output_type": "stream",
          "name": "stderr",
          "text": [
            "/usr/local/lib/python3.7/dist-packages/seaborn/_decorators.py:43: FutureWarning: Pass the following variable as a keyword arg: x. From version 0.12, the only valid positional argument will be `data`, and passing other arguments without an explicit keyword will result in an error or misinterpretation.\n",
            "  FutureWarning\n"
          ]
        },
        {
          "output_type": "display_data",
          "data": {
            "text/plain": [
              "<Figure size 432x288 with 1 Axes>"
            ],
            "image/png": "[encoded data removed]"
          },
          "metadata": {
            "needs_background": "light"
          }
        }
      ]
    },
    {
      "cell_type": "markdown",
      "source": [
        "Close"
      ],
      "metadata": {
        "id": "9KrhJcpxnCV6"
      }
    },
    {
      "cell_type": "code",
      "source": [
        "data['Close'].describe()"
      ],
      "metadata": {
        "colab": {
          "base_uri": "https://localhost:8080/"
        },
        "id": "6mkY5gWFnAfZ",
        "outputId": "57138b25-9c6b-46a6-bf01-478f3f6b2546"
      },
      "execution_count": null,
      "outputs": [
        {
          "output_type": "execute_result",
          "data": {
            "text/plain": [
              "count    4406.000000\n",
              "mean      681.950130\n",
              "std       629.734137\n",
              "min        50.055054\n",
              "25%       247.757752\n",
              "50%       430.450454\n",
              "75%       992.279999\n",
              "max      2996.770020\n",
              "Name: Close, dtype: float64"
            ]
          },
          "metadata": {},
          "execution_count": 320
        }
      ]
    },
    {
      "cell_type": "code",
      "source": [
        "sns.violinplot(data['Close'])\n",
        "plt.show()"
      ],
      "metadata": {
        "colab": {
          "base_uri": "https://localhost:8080/",
          "height": 333
        },
        "id": "nj2YEpmOoBHZ",
        "outputId": "5e9fe7df-706d-4b4a-ccc2-4c0c368f8717"
      },
      "execution_count": null,
      "outputs": [
        {
          "output_type": "stream",
          "name": "stderr",
          "text": [
            "/usr/local/lib/python3.7/dist-packages/seaborn/_decorators.py:43: FutureWarning: Pass the following variable as a keyword arg: x. From version 0.12, the only valid positional argument will be `data`, and passing other arguments without an explicit keyword will result in an error or misinterpretation.\n",
            "  FutureWarning\n"
          ]
        },
        {
          "output_type": "display_data",
          "data": {
            "text/plain": [
              "<Figure size 432x288 with 1 Axes>"
            ],
            "image/png": "[encoded data removed]"
          },
          "metadata": {
            "needs_background": "light"
          }
        }
      ]
    },
    {
      "cell_type": "markdown",
      "source": [
        "Open"
      ],
      "metadata": {
        "id": "-_HsgT4PpeQV"
      }
    },
    {
      "cell_type": "code",
      "source": [
        "data['Open'].describe()"
      ],
      "metadata": {
        "colab": {
          "base_uri": "https://localhost:8080/"
        },
        "id": "MDjoz1Y1pfpX",
        "outputId": "31511961-7bd2-4ca1-f62a-994d03be0577"
      },
      "execution_count": null,
      "outputs": [
        {
          "output_type": "execute_result",
          "data": {
            "text/plain": [
              "count    4406.000000\n",
              "mean      681.951261\n",
              "std       629.705043\n",
              "min        49.644646\n",
              "25%       247.935428\n",
              "50%       431.378875\n",
              "75%       993.699982\n",
              "max      3025.000000\n",
              "Name: Open, dtype: float64"
            ]
          },
          "metadata": {},
          "execution_count": 322
        }
      ]
    },
    {
      "cell_type": "code",
      "source": [
        "sns.violinplot(data['Open'])\n",
        "plt.show()"
      ],
      "metadata": {
        "colab": {
          "base_uri": "https://localhost:8080/",
          "height": 333
        },
        "id": "ZfW0gEH5pfXv",
        "outputId": "e177ec25-3586-41d8-89db-cd8b216934b6"
      },
      "execution_count": null,
      "outputs": [
        {
          "output_type": "stream",
          "name": "stderr",
          "text": [
            "/usr/local/lib/python3.7/dist-packages/seaborn/_decorators.py:43: FutureWarning: Pass the following variable as a keyword arg: x. From version 0.12, the only valid positional argument will be `data`, and passing other arguments without an explicit keyword will result in an error or misinterpretation.\n",
            "  FutureWarning\n"
          ]
        },
        {
          "output_type": "display_data",
          "data": {
            "text/plain": [
              "<Figure size 432x288 with 1 Axes>"
            ],
            "image/png": "[encoded data removed]"
          },
          "metadata": {
            "needs_background": "light"
          }
        }
      ]
    },
    {
      "cell_type": "markdown",
      "source": [
        "Volume"
      ],
      "metadata": {
        "id": "5L-GuXVVsA4h"
      }
    },
    {
      "cell_type": "code",
      "source": [
        "data['Volume'].describe()"
      ],
      "metadata": {
        "colab": {
          "base_uri": "https://localhost:8080/"
        },
        "id": "kerwMsaQsCGj",
        "outputId": "899a535c-cfcc-4b13-e58f-fc98074eaa31"
      },
      "execution_count": null,
      "outputs": [
        {
          "output_type": "execute_result",
          "data": {
            "text/plain": [
              "count    4.406000e+03\n",
              "mean     6.471553e+06\n",
              "std      7.703985e+06\n",
              "min      4.656000e+05\n",
              "25%      1.697800e+06\n",
              "50%      3.803497e+06\n",
              "75%      8.075466e+06\n",
              "max      8.215117e+07\n",
              "Name: Volume, dtype: float64"
            ]
          },
          "metadata": {},
          "execution_count": 324
        }
      ]
    },
    {
      "cell_type": "code",
      "source": [
        "sns.violinplot(data['Volume'])\n",
        "plt.show()"
      ],
      "metadata": {
        "colab": {
          "base_uri": "https://localhost:8080/",
          "height": 333
        },
        "id": "o6S05xbssOpQ",
        "outputId": "1096a438-d956-412c-afee-222c7ee04339"
      },
      "execution_count": null,
      "outputs": [
        {
          "output_type": "stream",
          "name": "stderr",
          "text": [
            "/usr/local/lib/python3.7/dist-packages/seaborn/_decorators.py:43: FutureWarning: Pass the following variable as a keyword arg: x. From version 0.12, the only valid positional argument will be `data`, and passing other arguments without an explicit keyword will result in an error or misinterpretation.\n",
            "  FutureWarning\n"
          ]
        },
        {
          "output_type": "display_data",
          "data": {
            "text/plain": [
              "<Figure size 432x288 with 1 Axes>"
            ],
            "image/png": "[encoded data removed]"
          },
          "metadata": {
            "needs_background": "light"
          }
        }
      ]
    },
    {
      "cell_type": "markdown",
      "source": [
        "Volume feature has wide range"
      ],
      "metadata": {
        "id": "Ww6E8PwRshDO"
      }
    },
    {
      "cell_type": "markdown",
      "source": [
        "Date Feature"
      ],
      "metadata": {
        "id": "O1vRra9GqHXP"
      }
    },
    {
      "cell_type": "code",
      "source": [
        "import regex as re\n",
        "#transforming feature\n",
        "data['Date']\n",
        "date = [i.split('/') for i in data['Date']]\n",
        "data['MM'] = [i[0] for i in date]\n",
        "data['DD'] = [i[1] for i in date]\n",
        "data['YYYY'] = [i[2] for i in date]"
      ],
      "metadata": {
        "id": "h0TUIH3xqFro"
      },
      "execution_count": null,
      "outputs": []
    },
    {
      "cell_type": "code",
      "source": [
        "data = data.drop(labels=['Date'],axis=1)"
      ],
      "metadata": {
        "id": "DIfae_jDru3K"
      },
      "execution_count": null,
      "outputs": []
    },
    {
      "cell_type": "markdown",
      "source": [
        ""
      ],
      "metadata": {
        "id": "Jn-qwNlCoYm9"
      }
    },
    {
      "cell_type": "code",
      "source": [
        "dataA = data.drop(labels = ['High'],axis = 1)\n",
        "dataB = data.drop(labels = ['Low'],axis = 1)\n",
        "targetA = data['High']\n",
        "targetB = data['Low']"
      ],
      "metadata": {
        "id": "XiiwsX3b0Jbg"
      },
      "execution_count": null,
      "outputs": []
    },
    {
      "cell_type": "markdown",
      "source": [
        ""
      ],
      "metadata": {
        "id": "eCjF9nb5iwed"
      }
    },
    {
      "cell_type": "code",
      "source": [
        "from sklearn.model_selection import train_test_split\n",
        "trainA = dataA.iloc[0:3000,:]\n",
        "testA = dataA.iloc[3000:,:]\n",
        "y_trainA = targetA[0:3000]\n",
        "y_testA = targetA[3000:]\n",
        "\n",
        "trainB = dataB.iloc[0:3000,:]\n",
        "testB = dataB.iloc[3000:,:]\n",
        "y_trainB = targetB[0:3000]\n",
        "y_testB = targetB[3000:]"
      ],
      "metadata": {
        "id": "a4FFg_2niauY"
      },
      "execution_count": null,
      "outputs": []
    },
    {
      "cell_type": "markdown",
      "source": [
        "LinearRegression"
      ],
      "metadata": {
        "id": "KGc50viWFfOu"
      }
    },
    {
      "cell_type": "markdown",
      "source": [
        "Set A - predicting High Value"
      ],
      "metadata": {
        "id": "Sh6CzbZADqMb"
      }
    },
    {
      "cell_type": "code",
      "source": [
        "from sklearn.linear_model import LinearRegression\n",
        "from sklearn.metrics import accuracy_score\n",
        "model = LinearRegression()\n",
        "model.fit(trainA,y_trainA)\n",
        "y_testA_pred = model.predict(testA)\n",
        "print(type(y_testA_pred))\n",
        "print(len(y_testA))"
      ],
      "metadata": {
        "colab": {
          "base_uri": "https://localhost:8080/"
        },
        "id": "gbs3XRK00_sW",
        "outputId": "5efec0c8-26c5-4985-b736-b0846b203e2b"
      },
      "execution_count": null,
      "outputs": [
        {
          "output_type": "stream",
          "name": "stdout",
          "text": [
            "<class 'numpy.ndarray'>\n",
            "1406\n"
          ]
        }
      ]
    },
    {
      "cell_type": "code",
      "source": [
        "# MSE \n",
        "y_testA = list(y_testA)\n",
        "sum = 0\n",
        "for i in range(len(y_testA)):\n",
        "  sum+=(y_testA[i]-y_testA_pred[i])**2\n",
        "MSE = 1/len(y_testA)*(sum)\n",
        "\n",
        "print('MSE setA:',MSE)"
      ],
      "metadata": {
        "colab": {
          "base_uri": "https://localhost:8080/"
        },
        "id": "wV7UZFK81VX7",
        "outputId": "8647996d-688a-4055-aae7-d51f42eec544"
      },
      "execution_count": null,
      "outputs": [
        {
          "output_type": "stream",
          "name": "stdout",
          "text": [
            "MSE setA: 84.24376060304019\n"
          ]
        }
      ]
    },
    {
      "cell_type": "markdown",
      "source": [
        "SetB - Predicting Low Value"
      ],
      "metadata": {
        "id": "UdjGrCjODr17"
      }
    },
    {
      "cell_type": "code",
      "source": [
        "from sklearn.linear_model import LinearRegression\n",
        "from sklearn.metrics import accuracy_score\n",
        "model = LinearRegression()\n",
        "model.fit(trainB,y_trainB)\n",
        "y_testB_pred = model.predict(testB)\n",
        "print(type(y_testB_pred))\n",
        "print(len(y_testB))\n",
        "\n",
        "# MSE \n",
        "y_testB = list(y_testB)\n",
        "sum = 0\n",
        "for i in range(len(y_testB)):\n",
        "  sum+=(y_testB[i]-y_testB_pred[i])**2\n",
        "MSE = 1/len(y_testB)*(sum)\n",
        "\n",
        "print('MSE setB :',MSE)"
      ],
      "metadata": {
        "colab": {
          "base_uri": "https://localhost:8080/"
        },
        "id": "zmApXNtQqX5Y",
        "outputId": "08dd3f98-9fca-44e5-a822-504608ab02ce"
      },
      "execution_count": null,
      "outputs": [
        {
          "output_type": "stream",
          "name": "stdout",
          "text": [
            "<class 'numpy.ndarray'>\n",
            "1406\n",
            "MSE setB : 76.29541241699177\n"
          ]
        }
      ]
    },
    {
      "cell_type": "markdown",
      "source": [
        "Random Forest"
      ],
      "metadata": {
        "id": "kTEOoFWEF1y0"
      }
    },
    {
      "cell_type": "markdown",
      "source": [
        "setA"
      ],
      "metadata": {
        "id": "H5Du61_hHAVl"
      }
    },
    {
      "cell_type": "code",
      "source": [
        "from sklearn.linear_model import LinearRegression\n",
        "from sklearn.metrics import accuracy_score\n",
        "from sklearn.ensemble import RandomForestRegressor\n",
        "model = RandomForestRegressor()\n",
        "model.fit(trainA,y_trainA)\n",
        "y_testA_pred = model.predict(testA)\n",
        "#print(type(y_testA_pred))\n",
        "#print(len(y_testA))\n",
        "\n",
        "# MSE \n",
        "y_testA = list(y_testA)\n",
        "sum = 0\n",
        "for i in range(len(y_testA)):\n",
        "  sum+=(y_testA[i]-y_testA_pred[i])**2\n",
        "MSE = 1/len(y_testA)*(sum)\n",
        "\n",
        "print('MSE setA Random Forest:',MSE)"
      ],
      "metadata": {
        "colab": {
          "base_uri": "https://localhost:8080/"
        },
        "id": "1SRd7i3wEbks",
        "outputId": "e35e8bea-dfdf-4154-f6b1-3977b0429ead"
      },
      "execution_count": null,
      "outputs": [
        {
          "output_type": "stream",
          "name": "stdout",
          "text": [
            "MSE setA Random Forest: 785325.8401205895\n"
          ]
        }
      ]
    },
    {
      "cell_type": "markdown",
      "source": [
        "setB"
      ],
      "metadata": {
        "id": "oUL1GQzqHCC2"
      }
    },
    {
      "cell_type": "code",
      "source": [
        "from sklearn.linear_model import LinearRegression\n",
        "from sklearn.metrics import accuracy_score\n",
        "model = RandomForestRegressor()\n",
        "model.fit(trainB,y_trainA)\n",
        "y_testB_pred = model.predict(testB)\n",
        "\n",
        "# MSE \n",
        "y_testB = list(y_testB)\n",
        "sum = 0\n",
        "for i in range(len(y_testB)):\n",
        "  sum+=(y_testB[i]-y_testB_pred[i])**2\n",
        "MSE = 1/len(y_testB)*(sum)\n",
        "\n",
        "print('MSE setB :',MSE)"
      ],
      "metadata": {
        "colab": {
          "base_uri": "https://localhost:8080/"
        },
        "id": "LdUy0QLIGfz7",
        "outputId": "9f9e19d5-995b-4814-b474-e565054d9440"
      },
      "execution_count": null,
      "outputs": [
        {
          "output_type": "stream",
          "name": "stdout",
          "text": [
            "MSE setB : 734775.9332816395\n"
          ]
        }
      ]
    },
    {
      "cell_type": "markdown",
      "source": [
        "Lets improve Linear Regression Model"
      ],
      "metadata": {
        "id": "FwEwk-AcHYrz"
      }
    },
    {
      "cell_type": "markdown",
      "source": [
        "Feature Engineering"
      ],
      "metadata": {
        "id": "TgdwDS81HiB8"
      }
    },
    {
      "cell_type": "code",
      "source": [
        "import numpy as np\n",
        "def split_features(column):\n",
        "  a = [np.round(i) for i in column]\n",
        "  b = [i%np.floor(i) for i in column]\n",
        "  return a,b"
      ],
      "metadata": {
        "id": "8Dm2kt-epI8L"
      },
      "execution_count": null,
      "outputs": []
    },
    {
      "cell_type": "code",
      "source": [
        "dataA = data.drop(labels = ['High'],axis = 1)\n",
        "dataB = data.drop(labels = ['Low'],axis = 1)\n",
        "targetA = data['High']\n",
        "targetB = data['Low']"
      ],
      "metadata": {
        "id": "Mbp5tIxgtVdR"
      },
      "execution_count": null,
      "outputs": []
    },
    {
      "cell_type": "code",
      "source": [
        "openA , openB = split_features(data['Open'])\n",
        "highA , highB = split_features(data['High'])\n",
        "lowA , lowB = split_features(data['Low'])\n",
        "closeA,closeB = split_features(data['Close'])\n",
        "adjA , adjB = split_features(data['Adj Close'])"
      ],
      "metadata": {
        "id": "ql4PlXdZpf4B"
      },
      "execution_count": null,
      "outputs": []
    },
    {
      "cell_type": "code",
      "source": [
        "data['openA'],data['openB'] = openA , openB\n",
        "data['highA'],data['highB'] = highA , highB\n",
        "data['lowA'],data['lowB'] = lowA , lowB\n",
        "data['closeA'],data['closeB'] = closeA , closeB\n",
        "data['adjA'] , data['adjB'] = adjA , adjB\n"
      ],
      "metadata": {
        "id": "3bMkfHV3s1VA"
      },
      "execution_count": null,
      "outputs": []
    },
    {
      "cell_type": "code",
      "source": [
        "df = data.drop(labels = ['Open','High','Low','Close','Adj Close'], axis = True)"
      ],
      "metadata": {
        "id": "SWOVcEjhvAMG"
      },
      "execution_count": null,
      "outputs": []
    },
    {
      "cell_type": "code",
      "source": [
        "dataA = df.drop(labels = ['highA','highB'],axis = 1)\n",
        "dataB = df.drop(labels = ['lowA','lowB'],axis = 1)\n",
        "targetA = data['High']\n",
        "targetB = data['Low']"
      ],
      "metadata": {
        "id": "Q0pNAK2ytjSP"
      },
      "execution_count": null,
      "outputs": []
    },
    {
      "cell_type": "code",
      "source": [
        "from sklearn.model_selection import train_test_split\n",
        "trainA = dataA.iloc[0:3000,:]\n",
        "testA = dataA.iloc[3000:,:]\n",
        "y_trainA = targetA[0:3000]\n",
        "y_testA = targetA[3000:]\n",
        "\n",
        "trainB = dataB.iloc[0:3000,:]\n",
        "testB = dataB.iloc[3000:,:]\n",
        "y_trainB = targetB[0:3000]\n",
        "y_testB = targetB[3000:]"
      ],
      "metadata": {
        "id": "kX5ZVoHGxHDH"
      },
      "execution_count": null,
      "outputs": []
    },
    {
      "cell_type": "markdown",
      "source": [
        "Linear Regression"
      ],
      "metadata": {
        "id": "_wNruweTNR8j"
      }
    },
    {
      "cell_type": "markdown",
      "source": [
        "setA"
      ],
      "metadata": {
        "id": "Whbqq_rmJ3R3"
      }
    },
    {
      "cell_type": "code",
      "source": [
        "from sklearn.linear_model import LinearRegression\n",
        "from sklearn.metrics import accuracy_score\n",
        "model = LinearRegression()\n",
        "model.fit(trainA,y_trainA)\n",
        "y_testA_pred = model.predict(testA)\n",
        "print(type(y_testA_pred))\n",
        "print(len(y_testA))\n",
        "\n",
        "# MSE \n",
        "y_testA = list(y_testA)\n",
        "sum = 0\n",
        "for i in range(len(y_testA)):\n",
        "  sum+=(y_testA[i]-y_testA_pred[i])**2\n",
        "MSE = 1/len(y_testA)*(sum)\n",
        "\n",
        "print('MSE setA:',MSE)"
      ],
      "metadata": {
        "id": "RxeOkYKCyqf-",
        "colab": {
          "base_uri": "https://localhost:8080/"
        },
        "outputId": "1e43a0ea-2a56-41b1-c8f9-9feb21e95eb1"
      },
      "execution_count": null,
      "outputs": [
        {
          "output_type": "stream",
          "name": "stdout",
          "text": [
            "<class 'numpy.ndarray'>\n",
            "1406\n",
            "MSE setA: 84.63234453721245\n"
          ]
        }
      ]
    },
    {
      "cell_type": "code",
      "source": [
        "error = y_testA - y_testA_pred"
      ],
      "metadata": {
        "id": "YSNkwS_Ula-B"
      },
      "execution_count": null,
      "outputs": []
    },
    {
      "cell_type": "code",
      "source": [
        "plt.figure(figsize=(10,10))\n",
        "plt.plot(y_testA)\n",
        "plt.plot(y_testA_pred)\n",
        "plt.title('Error Plot setA')\n",
        "plt.xlabel('y_test')\n",
        "plt.ylabel('y_test_pred')"
      ],
      "metadata": {
        "colab": {
          "base_uri": "https://localhost:8080/",
          "height": 639
        },
        "id": "cBXTpuUUlnhA",
        "outputId": "ae1322d9-559c-4288-f376-b918c9f3d3eb"
      },
      "execution_count": null,
      "outputs": [
        {
          "output_type": "execute_result",
          "data": {
            "text/plain": [
              "Text(0, 0.5, 'y_test_pred')"
            ]
          },
          "metadata": {},
          "execution_count": 349
        },
        {
          "output_type": "display_data",
          "data": {
            "text/plain": [
              "<Figure size 720x720 with 1 Axes>"
            ],
            "image/png": "[encoded data removed]"
          },
          "metadata": {
            "needs_background": "light"
          }
        }
      ]
    },
    {
      "cell_type": "markdown",
      "source": [
        "setB"
      ],
      "metadata": {
        "id": "6j2L65VKJ5dC"
      }
    },
    {
      "cell_type": "code",
      "source": [
        "from sklearn.linear_model import LinearRegression\n",
        "from sklearn.metrics import accuracy_score\n",
        "model = LinearRegression()\n",
        "model.fit(trainB,y_trainB)\n",
        "y_testB_pred = model.predict(testB)\n",
        "print(type(y_testB_pred))\n",
        "print(len(y_testB))\n",
        "\n",
        "# MSE \n",
        "y_testB = list(y_testB)\n",
        "sum = 0\n",
        "for i in range(len(y_testB)):\n",
        "  sum+=(y_testB[i]-y_testB_pred[i])**2\n",
        "MSE = 1/len(y_testB)*(sum)\n",
        "\n",
        "print('MSE setB :',MSE)"
      ],
      "metadata": {
        "colab": {
          "base_uri": "https://localhost:8080/"
        },
        "id": "wr3zUJQylwiX",
        "outputId": "a5ad2328-729b-4586-defa-2db691803481"
      },
      "execution_count": null,
      "outputs": [
        {
          "output_type": "stream",
          "name": "stdout",
          "text": [
            "<class 'numpy.ndarray'>\n",
            "1406\n",
            "MSE setB : 76.3784144062654\n"
          ]
        }
      ]
    },
    {
      "cell_type": "code",
      "source": [
        "plt.figure(figsize=(10,10))\n",
        "plt.plot(y_testB)\n",
        "plt.plot(y_testB_pred)\n",
        "plt.title('Error Plot : setB')\n",
        "plt.xlabel('y_test')\n",
        "plt.ylabel('y_test_pred')"
      ],
      "metadata": {
        "colab": {
          "base_uri": "https://localhost:8080/",
          "height": 639
        },
        "id": "41rr9Ri6meLi",
        "outputId": "19e81fc9-57f0-4a75-858e-76630100b1aa"
      },
      "execution_count": null,
      "outputs": [
        {
          "output_type": "execute_result",
          "data": {
            "text/plain": [
              "Text(0, 0.5, 'y_test_pred')"
            ]
          },
          "metadata": {},
          "execution_count": 352
        },
        {
          "output_type": "display_data",
          "data": {
            "text/plain": [
              "<Figure size 720x720 with 1 Axes>"
            ],
            "image/png": "[encoded data removed]"
          },
          "metadata": {
            "needs_background": "light"
          }
        }
      ]
    },
    {
      "cell_type": "code",
      "source": [
        "\n",
        "plt.figure(figsize=(10,10))\n",
        "plt.title('Error Scatter Plot')\n",
        "plt.scatter(y_testA,y_testA_pred)\n",
        "plt.xlabel('y_testA')\n",
        "plt.ylabel('y_test_pred')"
      ],
      "metadata": {
        "colab": {
          "base_uri": "https://localhost:8080/",
          "height": 639
        },
        "id": "KwUBPdQKm7fq",
        "outputId": "1ca84c8f-cfae-4f8b-b0db-0a11c9fd1cc2"
      },
      "execution_count": null,
      "outputs": [
        {
          "output_type": "execute_result",
          "data": {
            "text/plain": [
              "Text(0, 0.5, 'y_test_pred')"
            ]
          },
          "metadata": {},
          "execution_count": 354
        },
        {
          "output_type": "display_data",
          "data": {
            "text/plain": [
              "<Figure size 720x720 with 1 Axes>"
            ],
            "image/png": "[encoded data removed]"
          },
          "metadata": {
            "needs_background": "light"
          }
        }
      ]
    },
    {
      "cell_type": "code",
      "source": [
        "plt.figure(figsize=(10,10))\n",
        "plt.title('Error Scatter Plot')\n",
        "plt.scatter(y_testB,y_testB_pred)\n",
        "plt.xlabel('y_testB')\n",
        "plt.ylabel('y_testB_pred')"
      ],
      "metadata": {
        "colab": {
          "base_uri": "https://localhost:8080/",
          "height": 639
        },
        "id": "QyuoTDYlnmnJ",
        "outputId": "b3ce9402-becb-47d8-9579-f3c546e323a6"
      },
      "execution_count": null,
      "outputs": [
        {
          "output_type": "execute_result",
          "data": {
            "text/plain": [
              "Text(0, 0.5, 'y_testB_pred')"
            ]
          },
          "metadata": {},
          "execution_count": 355
        },
        {
          "output_type": "display_data",
          "data": {
            "text/plain": [
              "<Figure size 720x720 with 1 Axes>"
            ],
            "image/png": "[encoded data removed]"
          },
          "metadata": {
            "needs_background": "light"
          }
        }
      ]
    },
    {
      "cell_type": "markdown",
      "source": [
        "Feature Engineering"
      ],
      "metadata": {
        "id": "kWANPB8e44d8"
      }
    },
    {
      "cell_type": "code",
      "source": [
        "df['Volume_log'] = df['Volume'].apply(lambda x:np.log(x))"
      ],
      "metadata": {
        "id": "ayQN786rns-S"
      },
      "execution_count": null,
      "outputs": []
    },
    {
      "cell_type": "markdown",
      "source": [
        "Adding Date Feature"
      ],
      "metadata": {
        "id": "Uo0LdbdfOoG4"
      }
    },
    {
      "cell_type": "code",
      "source": [
        "#we can see that the date starts from 19th August 2004,\n",
        "# ie Thursday , we can label the data using this Day imformation\n",
        "\n",
        "#  0 - thursday , 1- friday , 2 - saturday, 3 - sunday , 4- monday , 5 - tuesday , 6 - wednesday ,\n",
        "day = []\n",
        "cnt = 0\n",
        "j = 0\n",
        "for i in range(len(df)):\n",
        "  day.append(j)\n",
        "  j+=1\n",
        "  cnt+=1\n",
        "  if cnt == 7:\n",
        "    j = 0\n",
        "    cnt = 0\n",
        "\n",
        "df['Day'] = day"
      ],
      "metadata": {
        "id": "Hk5ZLtJ8DDRa"
      },
      "execution_count": null,
      "outputs": []
    },
    {
      "cell_type": "markdown",
      "source": [
        "Rounding decimal value by 2"
      ],
      "metadata": {
        "id": "AranQV3OHfrk"
      }
    },
    {
      "cell_type": "code",
      "source": [
        "df['lowB'] = np.round(df['lowB'],2)\n",
        "df['highB'] = np.round(df['highB'],2)\n",
        "df['openB'] = np.round(df['openB'],2)\n",
        "df['adjB'] = np.round(df['adjB'],2)\n",
        "df['closeB'] = np.round(df['closeB'],2)\n",
        "df['Volume_log'] = np.round(df['Volume_log'],2)"
      ],
      "metadata": {
        "id": "CNk2ei3vDRkR"
      },
      "execution_count": null,
      "outputs": []
    },
    {
      "cell_type": "code",
      "source": [
        "df['V1'] = df['Volume'].apply(lambda x : np.cos(x))\n",
        "df['V2'] = df['Volume'].apply(lambda x : np.sin(x))\n",
        "df['V3'] = df['Volume'].apply(lambda x : np.log2(x))\n",
        "Volume = df['Volume']\n",
        "df.drop(labels='Volume',axis=1,inplace=True)\n",
        "df['V4'] = (df['openA']+df['closeA'])/2\n",
        "df['V5'] = (df['openB']+df['closeB'])/2\n",
        "df['V6'] = np.sin(Volume)**2\n",
        "df['V7'] = np.cos(Volume)**2\n",
        "df['V8'] = np.log2(Volume)**2\n",
        "df['V9'] = np.log2(Volume)**3"
      ],
      "metadata": {
        "id": "IT09jFgnDUR8"
      },
      "execution_count": null,
      "outputs": []
    },
    {
      "cell_type": "code",
      "source": [
        "dataA = df.drop(labels = ['highA','highB'],axis = 1)\n",
        "dataB = df.drop(labels = ['lowA','lowB'],axis = 1)\n",
        "targetA = data['High']\n",
        "targetB = data['Low']\n",
        "\n",
        "from sklearn.model_selection import train_test_split\n",
        "trainA = dataA.iloc[0:3000,:]\n",
        "testA = dataA.iloc[3000:,:]\n",
        "y_trainA = targetA[0:3000]\n",
        "y_testA = targetA[3000:]\n",
        "\n",
        "trainB = dataB.iloc[0:3000,:]\n",
        "testB = dataB.iloc[3000:,:]\n",
        "y_trainB = targetB[0:3000]\n",
        "y_testB = targetB[3000:]"
      ],
      "metadata": {
        "id": "yTnGffMTJXG0"
      },
      "execution_count": null,
      "outputs": []
    },
    {
      "cell_type": "markdown",
      "source": [
        "SetA"
      ],
      "metadata": {
        "id": "38fYU6wHO4j_"
      }
    },
    {
      "cell_type": "code",
      "source": [
        "from sklearn.linear_model import LinearRegression\n",
        "\n",
        "model = LinearRegression()\n",
        "model.fit(trainA,y_trainA)\n",
        "y_testA_pred = model.predict(testA)\n",
        "print(type(y_testA_pred))\n",
        "print(len(y_testA))\n",
        "\n",
        "# MSE \n",
        "y_testA = list(y_testA)\n",
        "sum = 0\n",
        "for i in range(len(y_testA)):\n",
        "  sum+=(y_testA[i]-y_testA_pred[i])**2\n",
        "MSE = 1/len(y_testA)*(sum)\n",
        "\n",
        "print('MSE setA:',MSE)"
      ],
      "metadata": {
        "colab": {
          "base_uri": "https://localhost:8080/"
        },
        "id": "Zc9zWN8kJzTU",
        "outputId": "81b0769e-662f-4e61-ee7b-a44763f1feef"
      },
      "execution_count": null,
      "outputs": [
        {
          "output_type": "stream",
          "name": "stdout",
          "text": [
            "<class 'numpy.ndarray'>\n",
            "1406\n",
            "MSE setA: 75.90741921065161\n"
          ]
        }
      ]
    },
    {
      "cell_type": "markdown",
      "source": [
        "setB"
      ],
      "metadata": {
        "id": "dMjhyYuKO7W9"
      }
    },
    {
      "cell_type": "code",
      "source": [
        "from sklearn.linear_model import LinearRegression\n",
        "from sklearn.metrics import accuracy_score\n",
        "model = LinearRegression()\n",
        "model.fit(trainB,y_trainB)\n",
        "y_testB_pred = model.predict(testB)\n",
        "print(type(y_testB_pred))\n",
        "print(len(y_testB))\n",
        "\n",
        "# MSE \n",
        "y_testB = list(y_testB)\n",
        "sum = 0\n",
        "for i in range(len(y_testB)):\n",
        "  sum+=(y_testB[i]-y_testB_pred[i])**2\n",
        "MSE = 1/len(y_testB)*(sum)\n",
        "\n",
        "print('MSE setB :',MSE)"
      ],
      "metadata": {
        "colab": {
          "base_uri": "https://localhost:8080/"
        },
        "id": "qjPI_cMAKKJp",
        "outputId": "80f70fc1-d377-46df-e47e-425bab7c5fcd"
      },
      "execution_count": null,
      "outputs": [
        {
          "output_type": "stream",
          "name": "stdout",
          "text": [
            "<class 'numpy.ndarray'>\n",
            "1406\n",
            "MSE setB : 77.22276882028312\n"
          ]
        }
      ]
    },
    {
      "cell_type": "code",
      "source": [
        "df"
      ],
      "metadata": {
        "colab": {
          "base_uri": "https://localhost:8080/",
          "height": 488
        },
        "id": "SIaNnATkPvrQ",
        "outputId": "6b228502-98d0-408f-a78d-4c3bf9ebe5ee"
      },
      "execution_count": null,
      "outputs": [
        {
          "output_type": "execute_result",
          "data": {
            "text/plain": [
              "     MM  DD  YYYY   openA  openB   highA  highB    lowA  lowB  closeA  ...  \\\n",
              "0     8  19  2004    50.0   0.05    52.0   0.08    48.0  0.03    50.0  ...   \n",
              "1     8  20  2004    51.0   0.56    55.0   0.59    50.0  0.30    54.0  ...   \n",
              "2     8  23  2004    55.0   0.43    57.0   0.80    55.0  0.58    55.0  ...   \n",
              "3     8  24  2004    56.0   0.68    56.0   0.86    52.0  0.84    52.0  ...   \n",
              "4     8  25  2004    53.0   0.53    54.0   0.05    52.0  0.99    53.0  ...   \n",
              "...  ..  ..   ...     ...    ...     ...    ...     ...   ...     ...  ...   \n",
              "4401  2  10  2022  2794.0   0.07  2830.0   0.69  2759.0  0.14  2772.0  ...   \n",
              "4402  2  11  2022  2772.0   0.00  2783.0   0.13  2668.0  0.00  2686.0  ...   \n",
              "4403  2  14  2022  2665.0   0.13  2726.0   0.00  2665.0  0.13  2711.0  ...   \n",
              "4404  2  15  2022  2751.0   0.41  2762.0   0.17  2716.0  0.43  2732.0  ...   \n",
              "4405  2  16  2022  2733.0   0.93  2741.0   0.61  2700.0  0.00  2721.0  ...   \n",
              "\n",
              "      Day        V1        V2         V3      V4     V5        V6        V7  \\\n",
              "0       0  0.739274 -0.673405  25.412451    50.0  0.135  0.453475  0.546525   \n",
              "1       1 -0.928135 -0.372244  24.444702    52.5  0.385  0.138566  0.861434   \n",
              "2       2 -0.341052 -0.940045  24.121877    55.0  0.590  0.883684  0.116316   \n",
              "3       3  0.946008  0.324143  23.862054    54.0  0.585  0.105069  0.894931   \n",
              "4       4 -0.900512  0.434831  23.131414    53.0  0.290  0.189078  0.810922   \n",
              "...   ...       ...       ...        ...     ...    ...       ...       ...   \n",
              "4401    5  0.335246  0.942130  20.907199  2783.0  0.235  0.887610  0.112390   \n",
              "4402    6  0.233530 -0.972350  20.927379  2729.0  0.325  0.945464  0.054536   \n",
              "4403    0 -0.551828 -0.833958  20.708852  2688.0  0.325  0.695486  0.304514   \n",
              "4404    1 -0.344144 -0.938917  20.347327  2741.5  0.290  0.881565  0.118435   \n",
              "4405    2 -0.115133 -0.993350  19.361021  2727.0  0.805  0.986744  0.013256   \n",
              "\n",
              "              V8            V9  \n",
              "0     645.792651  16411.173919  \n",
              "1     597.543453  14606.771612  \n",
              "2     581.864965  14035.675310  \n",
              "3     569.397619  13586.996709  \n",
              "4     535.062311  12376.747810  \n",
              "...          ...           ...  \n",
              "4401  437.110960   9138.765715  \n",
              "4402  437.955178   9165.253858  \n",
              "4403  428.856531   8881.126210  \n",
              "4404  414.013726   8424.072756  \n",
              "4405  374.849120   7257.461553  \n",
              "\n",
              "[4406 rows x 24 columns]"
            ],
            "text/html": [
              "\n",
              "  <div id=\"df-bfb9683e-e01a-4f2c-bab9-ab73fb209d07\">\n",
              "    <div class=\"colab-df-container\">\n",
              "      <div>\n",
              "<style scoped>\n",
              "    .dataframe tbody tr th:only-of-type {\n",
              "        vertical-align: middle;\n",
              "    }\n",
              "\n",
              "    .dataframe tbody tr th {\n",
              "        vertical-align: top;\n",
              "    }\n",
              "\n",
              "    .dataframe thead th {\n",
              "        text-align: right;\n",
              "    }\n",
              "</style>\n",
              "<table border=\"1\" class=\"dataframe\">\n",
              "  <thead>\n",
              "    <tr style=\"text-align: right;\">\n",
              "      <th></th>\n",
              "      <th>MM</th>\n",
              "      <th>DD</th>\n",
              "      <th>YYYY</th>\n",
              "      <th>openA</th>\n",
              "      <th>openB</th>\n",
              "      <th>highA</th>\n",
              "      <th>highB</th>\n",
              "      <th>lowA</th>\n",
              "      <th>lowB</th>\n",
              "      <th>closeA</th>\n",
              "      <th>...</th>\n",
              "      <th>Day</th>\n",
              "      <th>V1</th>\n",
              "      <th>V2</th>\n",
              "      <th>V3</th>\n",
              "      <th>V4</th>\n",
              "      <th>V5</th>\n",
              "      <th>V6</th>\n",
              "      <th>V7</th>\n",
              "      <th>V8</th>\n",
              "      <th>V9</th>\n",
              "    </tr>\n",
              "  </thead>\n",
              "  <tbody>\n",
              "    <tr>\n",
              "      <th>0</th>\n",
              "      <td>8</td>\n",
              "      <td>19</td>\n",
              "      <td>2004</td>\n",
              "      <td>50.0</td>\n",
              "      <td>0.05</td>\n",
              "      <td>52.0</td>\n",
              "      <td>0.08</td>\n",
              "      <td>48.0</td>\n",
              "      <td>0.03</td>\n",
              "      <td>50.0</td>\n",
              "      <td>...</td>\n",
              "      <td>0</td>\n",
              "      <td>0.739274</td>\n",
              "      <td>-0.673405</td>\n",
              "      <td>25.412451</td>\n",
              "      <td>50.0</td>\n",
              "      <td>0.135</td>\n",
              "      <td>0.453475</td>\n",
              "      <td>0.546525</td>\n",
              "      <td>645.792651</td>\n",
              "      <td>16411.173919</td>\n",
              "    </tr>\n",
              "    <tr>\n",
              "      <th>1</th>\n",
              "      <td>8</td>\n",
              "      <td>20</td>\n",
              "      <td>2004</td>\n",
              "      <td>51.0</td>\n",
              "      <td>0.56</td>\n",
              "      <td>55.0</td>\n",
              "      <td>0.59</td>\n",
              "      <td>50.0</td>\n",
              "      <td>0.30</td>\n",
              "      <td>54.0</td>\n",
              "      <td>...</td>\n",
              "      <td>1</td>\n",
              "      <td>-0.928135</td>\n",
              "      <td>-0.372244</td>\n",
              "      <td>24.444702</td>\n",
              "      <td>52.5</td>\n",
              "      <td>0.385</td>\n",
              "      <td>0.138566</td>\n",
              "      <td>0.861434</td>\n",
              "      <td>597.543453</td>\n",
              "      <td>14606.771612</td>\n",
              "    </tr>\n",
              "    <tr>\n",
              "      <th>2</th>\n",
              "      <td>8</td>\n",
              "      <td>23</td>\n",
              "      <td>2004</td>\n",
              "      <td>55.0</td>\n",
              "      <td>0.43</td>\n",
              "      <td>57.0</td>\n",
              "      <td>0.80</td>\n",
              "      <td>55.0</td>\n",
              "      <td>0.58</td>\n",
              "      <td>55.0</td>\n",
              "      <td>...</td>\n",
              "      <td>2</td>\n",
              "      <td>-0.341052</td>\n",
              "      <td>-0.940045</td>\n",
              "      <td>24.121877</td>\n",
              "      <td>55.0</td>\n",
              "      <td>0.590</td>\n",
              "      <td>0.883684</td>\n",
              "      <td>0.116316</td>\n",
              "      <td>581.864965</td>\n",
              "      <td>14035.675310</td>\n",
              "    </tr>\n",
              "    <tr>\n",
              "      <th>3</th>\n",
              "      <td>8</td>\n",
              "      <td>24</td>\n",
              "      <td>2004</td>\n",
              "      <td>56.0</td>\n",
              "      <td>0.68</td>\n",
              "      <td>56.0</td>\n",
              "      <td>0.86</td>\n",
              "      <td>52.0</td>\n",
              "      <td>0.84</td>\n",
              "      <td>52.0</td>\n",
              "      <td>...</td>\n",
              "      <td>3</td>\n",
              "      <td>0.946008</td>\n",
              "      <td>0.324143</td>\n",
              "      <td>23.862054</td>\n",
              "      <td>54.0</td>\n",
              "      <td>0.585</td>\n",
              "      <td>0.105069</td>\n",
              "      <td>0.894931</td>\n",
              "      <td>569.397619</td>\n",
              "      <td>13586.996709</td>\n",
              "    </tr>\n",
              "    <tr>\n",
              "      <th>4</th>\n",
              "      <td>8</td>\n",
              "      <td>25</td>\n",
              "      <td>2004</td>\n",
              "      <td>53.0</td>\n",
              "      <td>0.53</td>\n",
              "      <td>54.0</td>\n",
              "      <td>0.05</td>\n",
              "      <td>52.0</td>\n",
              "      <td>0.99</td>\n",
              "      <td>53.0</td>\n",
              "      <td>...</td>\n",
              "      <td>4</td>\n",
              "      <td>-0.900512</td>\n",
              "      <td>0.434831</td>\n",
              "      <td>23.131414</td>\n",
              "      <td>53.0</td>\n",
              "      <td>0.290</td>\n",
              "      <td>0.189078</td>\n",
              "      <td>0.810922</td>\n",
              "      <td>535.062311</td>\n",
              "      <td>12376.747810</td>\n",
              "    </tr>\n",
              "    <tr>\n",
              "      <th>...</th>\n",
              "      <td>...</td>\n",
              "      <td>...</td>\n",
              "      <td>...</td>\n",
              "      <td>...</td>\n",
              "      <td>...</td>\n",
              "      <td>...</td>\n",
              "      <td>...</td>\n",
              "      <td>...</td>\n",
              "      <td>...</td>\n",
              "      <td>...</td>\n",
              "      <td>...</td>\n",
              "      <td>...</td>\n",
              "      <td>...</td>\n",
              "      <td>...</td>\n",
              "      <td>...</td>\n",
              "      <td>...</td>\n",
              "      <td>...</td>\n",
              "      <td>...</td>\n",
              "      <td>...</td>\n",
              "      <td>...</td>\n",
              "      <td>...</td>\n",
              "    </tr>\n",
              "    <tr>\n",
              "      <th>4401</th>\n",
              "      <td>2</td>\n",
              "      <td>10</td>\n",
              "      <td>2022</td>\n",
              "      <td>2794.0</td>\n",
              "      <td>0.07</td>\n",
              "      <td>2830.0</td>\n",
              "      <td>0.69</td>\n",
              "      <td>2759.0</td>\n",
              "      <td>0.14</td>\n",
              "      <td>2772.0</td>\n",
              "      <td>...</td>\n",
              "      <td>5</td>\n",
              "      <td>0.335246</td>\n",
              "      <td>0.942130</td>\n",
              "      <td>20.907199</td>\n",
              "      <td>2783.0</td>\n",
              "      <td>0.235</td>\n",
              "      <td>0.887610</td>\n",
              "      <td>0.112390</td>\n",
              "      <td>437.110960</td>\n",
              "      <td>9138.765715</td>\n",
              "    </tr>\n",
              "    <tr>\n",
              "      <th>4402</th>\n",
              "      <td>2</td>\n",
              "      <td>11</td>\n",
              "      <td>2022</td>\n",
              "      <td>2772.0</td>\n",
              "      <td>0.00</td>\n",
              "      <td>2783.0</td>\n",
              "      <td>0.13</td>\n",
              "      <td>2668.0</td>\n",
              "      <td>0.00</td>\n",
              "      <td>2686.0</td>\n",
              "      <td>...</td>\n",
              "      <td>6</td>\n",
              "      <td>0.233530</td>\n",
              "      <td>-0.972350</td>\n",
              "      <td>20.927379</td>\n",
              "      <td>2729.0</td>\n",
              "      <td>0.325</td>\n",
              "      <td>0.945464</td>\n",
              "      <td>0.054536</td>\n",
              "      <td>437.955178</td>\n",
              "      <td>9165.253858</td>\n",
              "    </tr>\n",
              "    <tr>\n",
              "      <th>4403</th>\n",
              "      <td>2</td>\n",
              "      <td>14</td>\n",
              "      <td>2022</td>\n",
              "      <td>2665.0</td>\n",
              "      <td>0.13</td>\n",
              "      <td>2726.0</td>\n",
              "      <td>0.00</td>\n",
              "      <td>2665.0</td>\n",
              "      <td>0.13</td>\n",
              "      <td>2711.0</td>\n",
              "      <td>...</td>\n",
              "      <td>0</td>\n",
              "      <td>-0.551828</td>\n",
              "      <td>-0.833958</td>\n",
              "      <td>20.708852</td>\n",
              "      <td>2688.0</td>\n",
              "      <td>0.325</td>\n",
              "      <td>0.695486</td>\n",
              "      <td>0.304514</td>\n",
              "      <td>428.856531</td>\n",
              "      <td>8881.126210</td>\n",
              "    </tr>\n",
              "    <tr>\n",
              "      <th>4404</th>\n",
              "      <td>2</td>\n",
              "      <td>15</td>\n",
              "      <td>2022</td>\n",
              "      <td>2751.0</td>\n",
              "      <td>0.41</td>\n",
              "      <td>2762.0</td>\n",
              "      <td>0.17</td>\n",
              "      <td>2716.0</td>\n",
              "      <td>0.43</td>\n",
              "      <td>2732.0</td>\n",
              "      <td>...</td>\n",
              "      <td>1</td>\n",
              "      <td>-0.344144</td>\n",
              "      <td>-0.938917</td>\n",
              "      <td>20.347327</td>\n",
              "      <td>2741.5</td>\n",
              "      <td>0.290</td>\n",
              "      <td>0.881565</td>\n",
              "      <td>0.118435</td>\n",
              "      <td>414.013726</td>\n",
              "      <td>8424.072756</td>\n",
              "    </tr>\n",
              "    <tr>\n",
              "      <th>4405</th>\n",
              "      <td>2</td>\n",
              "      <td>16</td>\n",
              "      <td>2022</td>\n",
              "      <td>2733.0</td>\n",
              "      <td>0.93</td>\n",
              "      <td>2741.0</td>\n",
              "      <td>0.61</td>\n",
              "      <td>2700.0</td>\n",
              "      <td>0.00</td>\n",
              "      <td>2721.0</td>\n",
              "      <td>...</td>\n",
              "      <td>2</td>\n",
              "      <td>-0.115133</td>\n",
              "      <td>-0.993350</td>\n",
              "      <td>19.361021</td>\n",
              "      <td>2727.0</td>\n",
              "      <td>0.805</td>\n",
              "      <td>0.986744</td>\n",
              "      <td>0.013256</td>\n",
              "      <td>374.849120</td>\n",
              "      <td>7257.461553</td>\n",
              "    </tr>\n",
              "  </tbody>\n",
              "</table>\n",
              "<p>4406 rows × 24 columns</p>\n",
              "</div>\n",
              "      <button class=\"colab-df-convert\" onclick=\"convertToInteractive('df-bfb9683e-e01a-4f2c-bab9-ab73fb209d07')\"\n",
              "              title=\"Convert this dataframe to an interactive table.\"\n",
              "              style=\"display:none;\">\n",
              "        \n",
              "  <svg xmlns=\"http://www.w3.org/2000/svg\" height=\"24px\"viewBox=\"0 0 24 24\"\n",
              "       width=\"24px\">\n",
              "    <path d=\"M0 0h24v24H0V0z\" fill=\"none\"/>\n",
              "    <path d=\"M18.56 5.44l.94 2.06.94-2.06 2.06-.94-2.06-.94-.94-2.06-.94 2.06-2.06.94zm-11 1L8.5 8.5l.94-2.06 2.06-.94-2.06-.94L8.5 2.5l-.94 2.06-2.06.94zm10 10l.94 2.06.94-2.06 2.06-.94-2.06-.94-.94-2.06-.94 2.06-2.06.94z\"/><path d=\"M17.41 7.96l-1.37-1.37c-.4-.4-.92-.59-1.43-.59-.52 0-1.04.2-1.43.59L10.3 9.45l-7.72 7.72c-.78.78-.78 2.05 0 2.83L4 21.41c.39.39.9.59 1.41.59.51 0 1.02-.2 1.41-.59l7.78-7.78 2.81-2.81c.8-.78.8-2.07 0-2.86zM5.41 20L4 18.59l7.72-7.72 1.47 1.35L5.41 20z\"/>\n",
              "  </svg>\n",
              "      </button>\n",
              "      \n",
              "  <style>\n",
              "    .colab-df-container {\n",
              "      display:flex;\n",
              "      flex-wrap:wrap;\n",
              "      gap: 12px;\n",
              "    }\n",
              "\n",
              "    .colab-df-convert {\n",
              "      background-color: #E8F0FE;\n",
              "      border: none;\n",
              "      border-radius: 50%;\n",
              "      cursor: pointer;\n",
              "      display: none;\n",
              "      fill: #1967D2;\n",
              "      height: 32px;\n",
              "      padding: 0 0 0 0;\n",
              "      width: 32px;\n",
              "    }\n",
              "\n",
              "    .colab-df-convert:hover {\n",
              "      background-color: #E2EBFA;\n",
              "      box-shadow: 0px 1px 2px rgba(60, 64, 67, 0.3), 0px 1px 3px 1px rgba(60, 64, 67, 0.15);\n",
              "      fill: #174EA6;\n",
              "    }\n",
              "\n",
              "    [theme=dark] .colab-df-convert {\n",
              "      background-color: #3B4455;\n",
              "      fill: #D2E3FC;\n",
              "    }\n",
              "\n",
              "    [theme=dark] .colab-df-convert:hover {\n",
              "      background-color: #434B5C;\n",
              "      box-shadow: 0px 1px 3px 1px rgba(0, 0, 0, 0.15);\n",
              "      filter: drop-shadow(0px 1px 2px rgba(0, 0, 0, 0.3));\n",
              "      fill: #FFFFFF;\n",
              "    }\n",
              "  </style>\n",
              "\n",
              "      <script>\n",
              "        const buttonEl =\n",
              "          document.querySelector('#df-bfb9683e-e01a-4f2c-bab9-ab73fb209d07 button.colab-df-convert');\n",
              "        buttonEl.style.display =\n",
              "          google.colab.kernel.accessAllowed ? 'block' : 'none';\n",
              "\n",
              "        async function convertToInteractive(key) {\n",
              "          const element = document.querySelector('#df-bfb9683e-e01a-4f2c-bab9-ab73fb209d07');\n",
              "          const dataTable =\n",
              "            await google.colab.kernel.invokeFunction('convertToInteractive',\n",
              "                                                     [key], {});\n",
              "          if (!dataTable) return;\n",
              "\n",
              "          const docLinkHtml = 'Like what you see? Visit the ' +\n",
              "            '<a target=\"_blank\" href=https://colab.research.google.com/notebooks/data_table.ipynb>data table notebook</a>'\n",
              "            + ' to learn more about interactive tables.';\n",
              "          element.innerHTML = '';\n",
              "          dataTable['output_type'] = 'display_data';\n",
              "          await google.colab.output.renderOutput(dataTable, element);\n",
              "          const docLink = document.createElement('div');\n",
              "          docLink.innerHTML = docLinkHtml;\n",
              "          element.appendChild(docLink);\n",
              "        }\n",
              "      </script>\n",
              "    </div>\n",
              "  </div>\n",
              "  "
            ]
          },
          "metadata": {},
          "execution_count": 364
        }
      ]
    },
    {
      "cell_type": "markdown",
      "source": [
        "Observations\n",
        "1. The Model is Time Series Data\n",
        "2. Data is falling on a straight line , Thats why picking LinearRegression is the best choice\n",
        "3. Initially setA and setB are having MSE values 84 and 76 respectively \n",
        "4. After adding new features and doing feature Transformation MSE of set a improved to 76 and set B 77. \n",
        "5. Extra 17 features are added to improve model performance  \n",
        "6. MSE can further be improved by adding some more features and doing feature selection."
      ],
      "metadata": {
        "id": "C-_tB22rMPBL"
      }
    }
  ]
}